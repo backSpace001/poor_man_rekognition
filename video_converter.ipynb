{
 "cells": [
  {
   "cell_type": "code",
   "execution_count": 1,
   "metadata": {},
   "outputs": [],
   "source": [
    "import cv2\n",
    "import numpy as np\n",
    "\n",
    "capture = cv2.VideoCapture('sample2.mp4')\n",
    "size = (\n",
    "    int(capture.get(cv2.CAP_PROP_FRAME_WIDTH)),\n",
    "    int(capture.get(cv2.CAP_PROP_FRAME_HEIGHT))\n",
    ")\n",
    "codec = cv2.VideoWriter_fourcc(*'DIVX')\n",
    "output = cv2.VideoWriter('sample3.avi', codec, 60.0, size)\n",
    "\n",
    "i = 0\n",
    "frame_rate_divider = 3\n",
    "while(capture.isOpened()):\n",
    "    ret, frame = capture.read()\n",
    "    if ret:\n",
    "        if i % frame_rate_divider == 0:\n",
    "            # frame = cv2.resize(frame, None, fx=0.5, fy=0.5, interpolation=cv2.INTER_CUBIC)\n",
    "            output.write(frame)\n",
    "            cv2.imshow('frame', frame)\n",
    "            i += 1\n",
    "        else:\n",
    "            i += 1\n",
    "        if cv2.waitKey(1) & 0xFF == ord('q'):\n",
    "            break\n",
    "    else:\n",
    "        break\n",
    "\n",
    "capture.release()\n",
    "output.release()\n",
    "cv2.destroyAllWindows()"
   ]
  },
  {
   "cell_type": "code",
   "execution_count": null,
   "metadata": {},
   "outputs": [],
   "source": []
  }
 ],
 "metadata": {
  "kernelspec": {
   "display_name": "Python 3",
   "language": "python",
   "name": "python3"
  },
  "language_info": {
   "codemirror_mode": {
    "name": "ipython",
    "version": 3
   },
   "file_extension": ".py",
   "mimetype": "text/x-python",
   "name": "python",
   "nbconvert_exporter": "python",
   "pygments_lexer": "ipython3",
   "version": "3.6.7"
  }
 },
 "nbformat": 4,
 "nbformat_minor": 2
}
