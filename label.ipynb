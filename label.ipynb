{
 "cells": [
  {
   "cell_type": "code",
   "execution_count": 1,
   "metadata": {},
   "outputs": [
    {
     "name": "stderr",
     "output_type": "stream",
     "text": [
      "F:\\dd\\lib\\site-packages\\h5py\\__init__.py:72: UserWarning: h5py is running against HDF5 1.10.2 when it was built against 1.10.3, this may cause problems\n",
      "  '{0}.{1}.{2}'.format(*version.hdf5_built_version_tuple)\n"
     ]
    }
   ],
   "source": [
    "import cv2\n",
    "import label_image\n",
    "\n",
    "size = 4\n",
    "\n",
    "\n",
    "# We load the xml file\n",
    "classifier = cv2.CascadeClassifier('F:/dd/Library/etc/haarcascades/haarcascade_frontalface_alt2.xml')\n",
    "\n",
    "im = cv2.imread('C:/Users/Faiz Khan/Desktop/ddd/images3/faiz/111.jpg')\n"
   ]
  },
  {
   "cell_type": "code",
   "execution_count": 2,
   "metadata": {},
   "outputs": [
    {
     "name": "stderr",
     "output_type": "stream",
     "text": [
      "usage: ipykernel_launcher.py [-h] [--image IMAGE] [--graph GRAPH]\n",
      "                             [--labels LABELS] [--input_height INPUT_HEIGHT]\n",
      "                             [--input_width INPUT_WIDTH]\n",
      "                             [--input_mean INPUT_MEAN] [--input_std INPUT_STD]\n",
      "                             [--input_layer INPUT_LAYER]\n",
      "                             [--output_layer OUTPUT_LAYER]\n",
      "ipykernel_launcher.py: error: unrecognized arguments: -f C:\\Users\\Faiz Khan\\AppData\\Roaming\\jupyter\\runtime\\kernel-21bd31d8-c076-45f5-923f-9311e302b677.json\n"
     ]
    },
    {
     "ename": "SystemExit",
     "evalue": "2",
     "output_type": "error",
     "traceback": [
      "An exception has occurred, use %tb to see the full traceback.\n",
      "\u001b[1;31mSystemExit\u001b[0m\u001b[1;31m:\u001b[0m 2\n"
     ]
    },
    {
     "name": "stderr",
     "output_type": "stream",
     "text": [
      "F:\\dd\\lib\\site-packages\\IPython\\core\\interactiveshell.py:3304: UserWarning: To exit: use 'exit', 'quit', or Ctrl-D.\n",
      "  warn(\"To exit: use 'exit', 'quit', or Ctrl-D.\", stacklevel=1)\n"
     ]
    }
   ],
   "source": [
    "im=cv2.flip(im,1,0) #Flip to act as a mirror\n",
    "\n",
    "# Resize the image to speed up detection\n",
    "mini = cv2.resize(im, (int(im.shape[1]/size), int(im.shape[0]/size)))\n",
    "\n",
    "# detect MultiScale / faces \n",
    "faces = classifier.detectMultiScale(mini)\n",
    "\n",
    "# Draw rectangles around each face\n",
    "for f in faces:\n",
    "    (x, y, w, h) = [v * size for v in f] #Scale the shapesize backup\n",
    "    cv2.rectangle(im, (x,y), (x+w,y+h), (0,255,0), 4)\n",
    "        \n",
    "    #Save just the rectangle faces in SubRecFaces\n",
    "    sub_face = im[y:y+h, x:x+w]\n",
    "\n",
    "    FaceFileName = \"test.jpg\" #Saving the current image from the webcam for testing.\n",
    "    cv2.imwrite(FaceFileName, sub_face)\n",
    "        \n",
    "    text = label_image.main(FaceFileName)# Getting the Result from the label_image file, i.e., Classification Result.\n",
    "    text = text.title()# Title Case looks Stunning.\n",
    "    font = cv2.FONT_HERSHEY_TRIPLEX\n",
    "    cv2.putText(im, text,(x+w,y), font, 1, (0,0,255), 2)\n",
    " # Show the image\n",
    "cv2.imshow('Capture',   im)\n"
   ]
  },
  {
   "cell_type": "code",
   "execution_count": 6,
   "metadata": {},
   "outputs": [
    {
     "ename": "error",
     "evalue": "OpenCV(3.4.1) C:\\Miniconda3\\conda-bld\\opencv-suite_1533128839831\\work\\modules\\objdetect\\src\\cascadedetect.cpp:1698: error: (-215) !empty() in function cv::CascadeClassifier::detectMultiScale\n",
     "output_type": "error",
     "traceback": [
      "\u001b[1;31m---------------------------------------------------------------------------\u001b[0m",
      "\u001b[1;31merror\u001b[0m                                     Traceback (most recent call last)",
      "\u001b[1;32m<ipython-input-6-3070e608f5bd>\u001b[0m in \u001b[0;36m<module>\u001b[1;34m\u001b[0m\n\u001b[0;32m     18\u001b[0m \u001b[1;33m\u001b[0m\u001b[0m\n\u001b[0;32m     19\u001b[0m     \u001b[1;31m# detect MultiScale / faces\u001b[0m\u001b[1;33m\u001b[0m\u001b[1;33m\u001b[0m\u001b[1;33m\u001b[0m\u001b[0m\n\u001b[1;32m---> 20\u001b[1;33m     \u001b[0mfaces\u001b[0m \u001b[1;33m=\u001b[0m \u001b[0mclassifier\u001b[0m\u001b[1;33m.\u001b[0m\u001b[0mdetectMultiScale\u001b[0m\u001b[1;33m(\u001b[0m\u001b[0mmini\u001b[0m\u001b[1;33m)\u001b[0m\u001b[1;33m\u001b[0m\u001b[1;33m\u001b[0m\u001b[0m\n\u001b[0m\u001b[0;32m     21\u001b[0m \u001b[1;33m\u001b[0m\u001b[0m\n\u001b[0;32m     22\u001b[0m     \u001b[1;31m# Draw rectangles around each face\u001b[0m\u001b[1;33m\u001b[0m\u001b[1;33m\u001b[0m\u001b[1;33m\u001b[0m\u001b[0m\n",
      "\u001b[1;31merror\u001b[0m: OpenCV(3.4.1) C:\\Miniconda3\\conda-bld\\opencv-suite_1533128839831\\work\\modules\\objdetect\\src\\cascadedetect.cpp:1698: error: (-215) !empty() in function cv::CascadeClassifier::detectMultiScale\n"
     ]
    }
   ],
   "source": [
    "import cv2\n",
    "import label_image\n",
    "\n",
    "size = 4\n",
    "\n",
    "\n",
    "# We load the xml file\n",
    "classifier = cv2.CascadeClassifier('haarcascade_frontalface_alt.xml')\n",
    "\n",
    "webcam = cv2.VideoCapture(0) #Using default WebCam connected to the PC.\n",
    "\n",
    "while True:\n",
    "    (rval, im) = webcam.read()\n",
    "    im=cv2.flip(im,1,0) #Flip to act as a mirror\n",
    "\n",
    "    # Resize the image to speed up detection\n",
    "    mini = cv2.resize(im, (int(im.shape[1]/size), int(im.shape[0]/size)))\n",
    "\n",
    "    # detect MultiScale / faces \n",
    "    faces = classifier.detectMultiScale(mini)\n",
    "\n",
    "    # Draw rectangles around each face\n",
    "    for f in faces:\n",
    "        (x, y, w, h) = [v * size for v in f] #Scale the shapesize backup\n",
    "        cv2.rectangle(im, (x,y), (x+w,y+h), (0,255,0), 4)\n",
    "        \n",
    "        #Save just the rectangle faces in SubRecFaces\n",
    "        sub_face = im[y:y+h, x:x+w]\n",
    "\n",
    "        FaceFileName = \"test.jpg\" #Saving the current image from the webcam for testing.\n",
    "        cv2.imwrite(FaceFileName, sub_face)\n",
    "        \n",
    "        text = label_image.main(FaceFileName)# Getting the Result from the label_image file, i.e., Classification Result.\n",
    "        text = text.title()# Title Case looks Stunning.\n",
    "        font = cv2.FONT_HERSHEY_TRIPLEX\n",
    "        cv2.putText(im, text,(x+w,y), font, 1, (0,0,255), 2)\n",
    "\n",
    "    # Show the image\n",
    "    cv2.imshow('Capture',   im)\n",
    "    key = cv2.waitKey(10)\n",
    "    # if Esc key is press then break out of the loop \n",
    "    if key == 27: #The Esc key\n",
    "        break\n"
   ]
  },
  {
   "cell_type": "code",
   "execution_count": null,
   "metadata": {},
   "outputs": [],
   "source": []
  }
 ],
 "metadata": {
  "kernelspec": {
   "display_name": "Python 3",
   "language": "python",
   "name": "python3"
  },
  "language_info": {
   "codemirror_mode": {
    "name": "ipython",
    "version": 3
   },
   "file_extension": ".py",
   "mimetype": "text/x-python",
   "name": "python",
   "nbconvert_exporter": "python",
   "pygments_lexer": "ipython3",
   "version": "3.6.7"
  }
 },
 "nbformat": 4,
 "nbformat_minor": 2
}
